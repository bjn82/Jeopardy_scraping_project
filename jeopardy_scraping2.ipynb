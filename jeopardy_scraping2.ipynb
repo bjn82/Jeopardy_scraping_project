{
 "cells": [
  {
   "cell_type": "code",
   "execution_count": 1,
   "metadata": {
    "ExecuteTime": {
     "end_time": "2018-10-22T22:34:59.925822Z",
     "start_time": "2018-10-22T22:34:59.408551Z"
    }
   },
   "outputs": [],
   "source": [
    "import requests\n",
    "from bs4 import BeautifulSoup\n",
    "import pandas as pd\n",
    "import numpy as np\n",
    "import time\n",
    "import re\n",
    "import os\n",
    "\n",
    "from selenium import webdriver\n",
    "from selenium.webdriver.common.by import By\n",
    "from selenium.webdriver.support.ui import WebDriverWait\n",
    "from selenium.webdriver.support import expected_conditions as EC\n",
    "from selenium.common.exceptions import TimeoutException\n",
    "from selenium.common.exceptions import NoSuchElementException\n",
    "from selenium.webdriver.common.action_chains import ActionChains\n",
    "response = requests.get(\"http://www.j-archive.com/showgame.php?game_id=6129\")\n",
    "bsObj = BeautifulSoup(response.text, \"lxml\")\n"
   ]
  },
  {
   "cell_type": "code",
   "execution_count": 10,
   "metadata": {
    "ExecuteTime": {
     "end_time": "2018-10-22T16:26:32.052458Z",
     "start_time": "2018-10-22T16:26:32.039370Z"
    }
   },
   "outputs": [],
   "source": [
    "tables = bsObj.findAll(\"table\", {\"class\":\"round\"})\n",
    "r1 = tables[0]\n",
    "r2 = tables[1]\n"
   ]
  },
  {
   "cell_type": "code",
   "execution_count": 14,
   "metadata": {
    "ExecuteTime": {
     "end_time": "2018-10-22T16:33:19.156641Z",
     "start_time": "2018-10-22T16:33:19.146910Z"
    }
   },
   "outputs": [],
   "source": [
    "category_r1_bs4 = r1.findAll(\"td\", {\"class\":\"category_name\"})\n",
    "category_r2_bs4 = r2.findAll(\"td\", {\"class\":\"category_name\"})\n"
   ]
  },
  {
   "cell_type": "code",
   "execution_count": 16,
   "metadata": {
    "ExecuteTime": {
     "end_time": "2018-10-22T16:49:55.004504Z",
     "start_time": "2018-10-22T16:49:54.993945Z"
    }
   },
   "outputs": [],
   "source": [
    "clue_r1_bs4 = r1.findAll('td',{\"class\":\"clue_text\"})\n",
    "clue_r2_bs4 = r2.findAll('td',{\"class\":\"clue_text\"})"
   ]
  },
  {
   "cell_type": "code",
   "execution_count": 24,
   "metadata": {
    "ExecuteTime": {
     "end_time": "2018-10-22T16:51:03.570384Z",
     "start_time": "2018-10-22T16:51:03.485763Z"
    }
   },
   "outputs": [
    {
     "name": "stdout",
     "output_type": "stream",
     "text": [
      "HANGING WITH FAMOUS PEOPLE\n",
      "Fidel Castro gets an earful from this writer & fellow Cuba resident\n",
      "HANGING WITH FAMOUS PEOPLE\n",
      "Numerical way of saying all day long, all week long\n",
      "HANGING WITH FAMOUS PEOPLE\n",
      "Smoke jumpers are a specialized group of these emergency workers who parachute into action\n",
      "HANGING WITH FAMOUS PEOPLE\n",
      "Introduced by Nintendo in 1989, this handheld device was for playing cartridge-loaded amusements\n",
      "HANGING WITH FAMOUS PEOPLE\n",
      "In 2017 he brought \"All-Star\" chefs back for a second chance to run one of his Vegas restaurants\n",
      "HANGING WITH FAMOUS PEOPLE\n",
      "I really doubt a fight could break out between these two men\n",
      "HANGING WITH FAMOUS PEOPLE\n",
      "Tell co-workers you don't hit your stride until noon with a classic Sandra Boynton cat mug that says, \"Not a\" this\n",
      "HANGING WITH FAMOUS PEOPLE\n",
      "In the making of Talisker Scotch whisky, the malt is flavored by the smoke of this stuff from bogs\n",
      "HANGING WITH FAMOUS PEOPLE\n",
      "The \"dynasty\" of these accessories (in fashion, not football) began in the '30s but peaked in the '80s\n",
      "HANGING WITH FAMOUS PEOPLE\n",
      "Arnold Schwarzenegger: \"I am selling ____ worldwide\"\n",
      "HANGING WITH FAMOUS PEOPLE\n",
      "Robert Hewitt Wolfe & Brannon Braga co-wrote \"A Fistful of Datas\" in 1992, bringing the old West to this show's Holodeck\n",
      "HANGING WITH FAMOUS PEOPLE\n",
      "Picasso shows love for his fellow Pablo, this poet\n",
      "HANGING WITH FAMOUS PEOPLE\n",
      "Another way to say a very long time is \"a month of\" these days\n",
      "HANGING WITH FAMOUS PEOPLE\n",
      "On record & on film, this jocular pair went \"Up in Smoke\" celebrating the stoner lifestyle\n",
      "HANGING WITH FAMOUS PEOPLE\n",
      "Walter Mondale used this 3-word Wendy's slogan in 1984 to challenge a rival for the presidential nomination\n",
      "HANGING WITH FAMOUS PEOPLE\n",
      "Sarah Palin: \"It is from ____ that we send those out to make sure that an eye is being kept on this very powerful nation, Russia\"\n",
      "HANGING WITH FAMOUS PEOPLE\n",
      "Somehow, the afterlife wouldn't be complete without Blake Bortles on this NBC sitcom\n",
      "HANGING WITH FAMOUS PEOPLE\n",
      "This president, on the right, & fellow Ohioan Harvey Firestone wait while Edison naps away\n",
      "HANGING WITH FAMOUS PEOPLE\n",
      "If you're up late working on a project, you're engaging in this combustion that includes a time\n",
      "HANGING WITH FAMOUS PEOPLE\n",
      "Smoke is paired with these to make a phrase used when reality is being deliberately obscured\n",
      "HANGING WITH FAMOUS PEOPLE\n",
      "This \"How'm I doin'?\" NYC mayor also said, \"I can explain this to you; I cannot comprehend it for you\"\n",
      "HANGING WITH FAMOUS PEOPLE\n",
      "An 1803 speech: \"____ is the keystone of the democratic arch\"\n",
      "HANGING WITH FAMOUS PEOPLE\n",
      "Here's a not-so-small claim--she sold her 5,000-plus court show archive back to CBS for $95 mil, give or take\n",
      "HANGING WITH FAMOUS PEOPLE\n",
      "These two men, an actor-director & a writer, have a nice chat, perhaps about their last names being homophones\n",
      "HANGING WITH FAMOUS PEOPLE\n",
      "JFK loved the Broadway lyric \"once there was a spot, for one\" these 3 words \"that was Camelot\"\n",
      "HANGING WITH FAMOUS PEOPLE\n",
      "By the 17th century keepers of these had developed a screen veil & had learned the value of smoke in controlling them\n",
      "HANGING WITH FAMOUS PEOPLE\n",
      "(Sarah of the Clue Crew presents from the Plokstine Cold War Museum in Lithuania.) The silos at Lithuania's Plokstine missile base that once housed Soviet SS-4 rockets are empty; the missiles were destroyed under terms of this treaty, signed in 1987 by Gorbachev & Reagan & known by three letters for short\n",
      "HANGING WITH FAMOUS PEOPLE\n",
      "An official state song: \"On, ____!\"\n",
      "HANGING WITH FAMOUS PEOPLE\n",
      "Rashida Jones is the title cop on this TBS comedy; other characters include Jay Geils & Dr. Scholls\n",
      "TIMELY PHRASES\n",
      "Fidel Castro gets an earful from this writer & fellow Cuba resident\n",
      "TIMELY PHRASES\n",
      "Numerical way of saying all day long, all week long\n",
      "TIMELY PHRASES\n",
      "Smoke jumpers are a specialized group of these emergency workers who parachute into action\n",
      "TIMELY PHRASES\n",
      "Introduced by Nintendo in 1989, this handheld device was for playing cartridge-loaded amusements\n",
      "TIMELY PHRASES\n",
      "In 2017 he brought \"All-Star\" chefs back for a second chance to run one of his Vegas restaurants\n",
      "TIMELY PHRASES\n",
      "I really doubt a fight could break out between these two men\n",
      "TIMELY PHRASES\n",
      "Tell co-workers you don't hit your stride until noon with a classic Sandra Boynton cat mug that says, \"Not a\" this\n",
      "TIMELY PHRASES\n",
      "In the making of Talisker Scotch whisky, the malt is flavored by the smoke of this stuff from bogs\n",
      "TIMELY PHRASES\n",
      "The \"dynasty\" of these accessories (in fashion, not football) began in the '30s but peaked in the '80s\n",
      "TIMELY PHRASES\n",
      "Arnold Schwarzenegger: \"I am selling ____ worldwide\"\n",
      "TIMELY PHRASES\n",
      "Robert Hewitt Wolfe & Brannon Braga co-wrote \"A Fistful of Datas\" in 1992, bringing the old West to this show's Holodeck\n",
      "TIMELY PHRASES\n",
      "Picasso shows love for his fellow Pablo, this poet\n",
      "TIMELY PHRASES\n",
      "Another way to say a very long time is \"a month of\" these days\n",
      "TIMELY PHRASES\n",
      "On record & on film, this jocular pair went \"Up in Smoke\" celebrating the stoner lifestyle\n",
      "TIMELY PHRASES\n",
      "Walter Mondale used this 3-word Wendy's slogan in 1984 to challenge a rival for the presidential nomination\n",
      "TIMELY PHRASES\n",
      "Sarah Palin: \"It is from ____ that we send those out to make sure that an eye is being kept on this very powerful nation, Russia\"\n",
      "TIMELY PHRASES\n",
      "Somehow, the afterlife wouldn't be complete without Blake Bortles on this NBC sitcom\n",
      "TIMELY PHRASES\n",
      "This president, on the right, & fellow Ohioan Harvey Firestone wait while Edison naps away\n",
      "TIMELY PHRASES\n",
      "If you're up late working on a project, you're engaging in this combustion that includes a time\n",
      "TIMELY PHRASES\n",
      "Smoke is paired with these to make a phrase used when reality is being deliberately obscured\n",
      "TIMELY PHRASES\n",
      "This \"How'm I doin'?\" NYC mayor also said, \"I can explain this to you; I cannot comprehend it for you\"\n",
      "TIMELY PHRASES\n",
      "An 1803 speech: \"____ is the keystone of the democratic arch\"\n",
      "TIMELY PHRASES\n",
      "Here's a not-so-small claim--she sold her 5,000-plus court show archive back to CBS for $95 mil, give or take\n",
      "TIMELY PHRASES\n",
      "These two men, an actor-director & a writer, have a nice chat, perhaps about their last names being homophones\n",
      "TIMELY PHRASES\n",
      "JFK loved the Broadway lyric \"once there was a spot, for one\" these 3 words \"that was Camelot\"\n",
      "TIMELY PHRASES\n",
      "By the 17th century keepers of these had developed a screen veil & had learned the value of smoke in controlling them\n",
      "TIMELY PHRASES\n",
      "(Sarah of the Clue Crew presents from the Plokstine Cold War Museum in Lithuania.) The silos at Lithuania's Plokstine missile base that once housed Soviet SS-4 rockets are empty; the missiles were destroyed under terms of this treaty, signed in 1987 by Gorbachev & Reagan & known by three letters for short\n",
      "TIMELY PHRASES\n",
      "An official state song: \"On, ____!\"\n",
      "TIMELY PHRASES\n",
      "Rashida Jones is the title cop on this TBS comedy; other characters include Jay Geils & Dr. Scholls\n",
      "WHERE THERE'S SMOKE\n",
      "Fidel Castro gets an earful from this writer & fellow Cuba resident\n",
      "WHERE THERE'S SMOKE\n",
      "Numerical way of saying all day long, all week long\n",
      "WHERE THERE'S SMOKE\n",
      "Smoke jumpers are a specialized group of these emergency workers who parachute into action\n",
      "WHERE THERE'S SMOKE\n",
      "Introduced by Nintendo in 1989, this handheld device was for playing cartridge-loaded amusements\n",
      "WHERE THERE'S SMOKE\n",
      "In 2017 he brought \"All-Star\" chefs back for a second chance to run one of his Vegas restaurants\n",
      "WHERE THERE'S SMOKE\n",
      "I really doubt a fight could break out between these two men\n",
      "WHERE THERE'S SMOKE\n",
      "Tell co-workers you don't hit your stride until noon with a classic Sandra Boynton cat mug that says, \"Not a\" this\n",
      "WHERE THERE'S SMOKE\n",
      "In the making of Talisker Scotch whisky, the malt is flavored by the smoke of this stuff from bogs\n",
      "WHERE THERE'S SMOKE\n",
      "The \"dynasty\" of these accessories (in fashion, not football) began in the '30s but peaked in the '80s\n",
      "WHERE THERE'S SMOKE\n",
      "Arnold Schwarzenegger: \"I am selling ____ worldwide\"\n",
      "WHERE THERE'S SMOKE\n",
      "Robert Hewitt Wolfe & Brannon Braga co-wrote \"A Fistful of Datas\" in 1992, bringing the old West to this show's Holodeck\n",
      "WHERE THERE'S SMOKE\n",
      "Picasso shows love for his fellow Pablo, this poet\n",
      "WHERE THERE'S SMOKE\n",
      "Another way to say a very long time is \"a month of\" these days\n",
      "WHERE THERE'S SMOKE\n",
      "On record & on film, this jocular pair went \"Up in Smoke\" celebrating the stoner lifestyle\n",
      "WHERE THERE'S SMOKE\n",
      "Walter Mondale used this 3-word Wendy's slogan in 1984 to challenge a rival for the presidential nomination\n",
      "WHERE THERE'S SMOKE\n",
      "Sarah Palin: \"It is from ____ that we send those out to make sure that an eye is being kept on this very powerful nation, Russia\"\n",
      "WHERE THERE'S SMOKE\n",
      "Somehow, the afterlife wouldn't be complete without Blake Bortles on this NBC sitcom\n",
      "WHERE THERE'S SMOKE\n",
      "This president, on the right, & fellow Ohioan Harvey Firestone wait while Edison naps away\n",
      "WHERE THERE'S SMOKE\n",
      "If you're up late working on a project, you're engaging in this combustion that includes a time\n",
      "WHERE THERE'S SMOKE\n",
      "Smoke is paired with these to make a phrase used when reality is being deliberately obscured\n",
      "WHERE THERE'S SMOKE\n",
      "This \"How'm I doin'?\" NYC mayor also said, \"I can explain this to you; I cannot comprehend it for you\"\n",
      "WHERE THERE'S SMOKE\n",
      "An 1803 speech: \"____ is the keystone of the democratic arch\"\n",
      "WHERE THERE'S SMOKE\n",
      "Here's a not-so-small claim--she sold her 5,000-plus court show archive back to CBS for $95 mil, give or take\n",
      "WHERE THERE'S SMOKE\n",
      "These two men, an actor-director & a writer, have a nice chat, perhaps about their last names being homophones\n",
      "WHERE THERE'S SMOKE\n",
      "JFK loved the Broadway lyric \"once there was a spot, for one\" these 3 words \"that was Camelot\"\n",
      "WHERE THERE'S SMOKE\n",
      "By the 17th century keepers of these had developed a screen veil & had learned the value of smoke in controlling them\n",
      "WHERE THERE'S SMOKE\n",
      "(Sarah of the Clue Crew presents from the Plokstine Cold War Museum in Lithuania.) The silos at Lithuania's Plokstine missile base that once housed Soviet SS-4 rockets are empty; the missiles were destroyed under terms of this treaty, signed in 1987 by Gorbachev & Reagan & known by three letters for short\n",
      "WHERE THERE'S SMOKE\n",
      "An official state song: \"On, ____!\"\n",
      "WHERE THERE'S SMOKE\n",
      "Rashida Jones is the title cop on this TBS comedy; other characters include Jay Geils & Dr. Scholls\n",
      "THE 1980s\n",
      "Fidel Castro gets an earful from this writer & fellow Cuba resident\n",
      "THE 1980s\n",
      "Numerical way of saying all day long, all week long\n",
      "THE 1980s\n",
      "Smoke jumpers are a specialized group of these emergency workers who parachute into action\n",
      "THE 1980s\n",
      "Introduced by Nintendo in 1989, this handheld device was for playing cartridge-loaded amusements\n",
      "THE 1980s\n",
      "In 2017 he brought \"All-Star\" chefs back for a second chance to run one of his Vegas restaurants\n",
      "THE 1980s\n",
      "I really doubt a fight could break out between these two men\n",
      "THE 1980s\n",
      "Tell co-workers you don't hit your stride until noon with a classic Sandra Boynton cat mug that says, \"Not a\" this\n",
      "THE 1980s\n",
      "In the making of Talisker Scotch whisky, the malt is flavored by the smoke of this stuff from bogs\n",
      "THE 1980s\n",
      "The \"dynasty\" of these accessories (in fashion, not football) began in the '30s but peaked in the '80s\n",
      "THE 1980s\n",
      "Arnold Schwarzenegger: \"I am selling ____ worldwide\"\n",
      "THE 1980s\n",
      "Robert Hewitt Wolfe & Brannon Braga co-wrote \"A Fistful of Datas\" in 1992, bringing the old West to this show's Holodeck\n",
      "THE 1980s\n",
      "Picasso shows love for his fellow Pablo, this poet\n",
      "THE 1980s\n",
      "Another way to say a very long time is \"a month of\" these days\n",
      "THE 1980s\n",
      "On record & on film, this jocular pair went \"Up in Smoke\" celebrating the stoner lifestyle\n",
      "THE 1980s\n",
      "Walter Mondale used this 3-word Wendy's slogan in 1984 to challenge a rival for the presidential nomination\n",
      "THE 1980s\n",
      "Sarah Palin: \"It is from ____ that we send those out to make sure that an eye is being kept on this very powerful nation, Russia\"\n",
      "THE 1980s\n",
      "Somehow, the afterlife wouldn't be complete without Blake Bortles on this NBC sitcom\n",
      "THE 1980s\n",
      "This president, on the right, & fellow Ohioan Harvey Firestone wait while Edison naps away\n",
      "THE 1980s\n",
      "If you're up late working on a project, you're engaging in this combustion that includes a time\n",
      "THE 1980s\n",
      "Smoke is paired with these to make a phrase used when reality is being deliberately obscured\n",
      "THE 1980s\n",
      "This \"How'm I doin'?\" NYC mayor also said, \"I can explain this to you; I cannot comprehend it for you\"\n",
      "THE 1980s\n",
      "An 1803 speech: \"____ is the keystone of the democratic arch\"\n",
      "THE 1980s\n",
      "Here's a not-so-small claim--she sold her 5,000-plus court show archive back to CBS for $95 mil, give or take\n",
      "THE 1980s\n",
      "These two men, an actor-director & a writer, have a nice chat, perhaps about their last names being homophones\n",
      "THE 1980s\n",
      "JFK loved the Broadway lyric \"once there was a spot, for one\" these 3 words \"that was Camelot\"\n",
      "THE 1980s\n",
      "By the 17th century keepers of these had developed a screen veil & had learned the value of smoke in controlling them\n",
      "THE 1980s\n",
      "(Sarah of the Clue Crew presents from the Plokstine Cold War Museum in Lithuania.) The silos at Lithuania's Plokstine missile base that once housed Soviet SS-4 rockets are empty; the missiles were destroyed under terms of this treaty, signed in 1987 by Gorbachev & Reagan & known by three letters for short\n",
      "THE 1980s\n",
      "An official state song: \"On, ____!\"\n",
      "THE 1980s\n",
      "Rashida Jones is the title cop on this TBS comedy; other characters include Jay Geils & Dr. Scholls\n",
      "STATE LINES\n",
      "Fidel Castro gets an earful from this writer & fellow Cuba resident\n",
      "STATE LINES\n",
      "Numerical way of saying all day long, all week long\n",
      "STATE LINES\n",
      "Smoke jumpers are a specialized group of these emergency workers who parachute into action\n",
      "STATE LINES\n",
      "Introduced by Nintendo in 1989, this handheld device was for playing cartridge-loaded amusements\n",
      "STATE LINES\n",
      "In 2017 he brought \"All-Star\" chefs back for a second chance to run one of his Vegas restaurants\n",
      "STATE LINES\n",
      "I really doubt a fight could break out between these two men\n",
      "STATE LINES\n",
      "Tell co-workers you don't hit your stride until noon with a classic Sandra Boynton cat mug that says, \"Not a\" this\n",
      "STATE LINES\n",
      "In the making of Talisker Scotch whisky, the malt is flavored by the smoke of this stuff from bogs\n",
      "STATE LINES\n",
      "The \"dynasty\" of these accessories (in fashion, not football) began in the '30s but peaked in the '80s\n",
      "STATE LINES\n",
      "Arnold Schwarzenegger: \"I am selling ____ worldwide\"\n",
      "STATE LINES\n",
      "Robert Hewitt Wolfe & Brannon Braga co-wrote \"A Fistful of Datas\" in 1992, bringing the old West to this show's Holodeck\n",
      "STATE LINES\n",
      "Picasso shows love for his fellow Pablo, this poet\n",
      "STATE LINES\n",
      "Another way to say a very long time is \"a month of\" these days\n",
      "STATE LINES\n",
      "On record & on film, this jocular pair went \"Up in Smoke\" celebrating the stoner lifestyle\n",
      "STATE LINES\n",
      "Walter Mondale used this 3-word Wendy's slogan in 1984 to challenge a rival for the presidential nomination\n",
      "STATE LINES\n",
      "Sarah Palin: \"It is from ____ that we send those out to make sure that an eye is being kept on this very powerful nation, Russia\"\n",
      "STATE LINES\n",
      "Somehow, the afterlife wouldn't be complete without Blake Bortles on this NBC sitcom\n",
      "STATE LINES\n",
      "This president, on the right, & fellow Ohioan Harvey Firestone wait while Edison naps away\n",
      "STATE LINES\n",
      "If you're up late working on a project, you're engaging in this combustion that includes a time\n",
      "STATE LINES\n",
      "Smoke is paired with these to make a phrase used when reality is being deliberately obscured\n",
      "STATE LINES\n",
      "This \"How'm I doin'?\" NYC mayor also said, \"I can explain this to you; I cannot comprehend it for you\"\n",
      "STATE LINES\n",
      "An 1803 speech: \"____ is the keystone of the democratic arch\"\n",
      "STATE LINES\n",
      "Here's a not-so-small claim--she sold her 5,000-plus court show archive back to CBS for $95 mil, give or take\n",
      "STATE LINES\n",
      "These two men, an actor-director & a writer, have a nice chat, perhaps about their last names being homophones\n",
      "STATE LINES\n",
      "JFK loved the Broadway lyric \"once there was a spot, for one\" these 3 words \"that was Camelot\"\n",
      "STATE LINES\n",
      "By the 17th century keepers of these had developed a screen veil & had learned the value of smoke in controlling them\n",
      "STATE LINES\n",
      "(Sarah of the Clue Crew presents from the Plokstine Cold War Museum in Lithuania.) The silos at Lithuania's Plokstine missile base that once housed Soviet SS-4 rockets are empty; the missiles were destroyed under terms of this treaty, signed in 1987 by Gorbachev & Reagan & known by three letters for short\n",
      "STATE LINES\n",
      "An official state song: \"On, ____!\"\n",
      "STATE LINES\n",
      "Rashida Jones is the title cop on this TBS comedy; other characters include Jay Geils & Dr. Scholls\n",
      "C'EST LA TV\n",
      "Fidel Castro gets an earful from this writer & fellow Cuba resident\n",
      "C'EST LA TV\n",
      "Numerical way of saying all day long, all week long\n",
      "C'EST LA TV\n",
      "Smoke jumpers are a specialized group of these emergency workers who parachute into action\n",
      "C'EST LA TV\n",
      "Introduced by Nintendo in 1989, this handheld device was for playing cartridge-loaded amusements\n",
      "C'EST LA TV\n",
      "In 2017 he brought \"All-Star\" chefs back for a second chance to run one of his Vegas restaurants\n",
      "C'EST LA TV\n",
      "I really doubt a fight could break out between these two men\n",
      "C'EST LA TV\n",
      "Tell co-workers you don't hit your stride until noon with a classic Sandra Boynton cat mug that says, \"Not a\" this\n",
      "C'EST LA TV\n",
      "In the making of Talisker Scotch whisky, the malt is flavored by the smoke of this stuff from bogs\n",
      "C'EST LA TV\n",
      "The \"dynasty\" of these accessories (in fashion, not football) began in the '30s but peaked in the '80s\n",
      "C'EST LA TV\n",
      "Arnold Schwarzenegger: \"I am selling ____ worldwide\"\n",
      "C'EST LA TV\n",
      "Robert Hewitt Wolfe & Brannon Braga co-wrote \"A Fistful of Datas\" in 1992, bringing the old West to this show's Holodeck\n",
      "C'EST LA TV\n",
      "Picasso shows love for his fellow Pablo, this poet\n",
      "C'EST LA TV\n",
      "Another way to say a very long time is \"a month of\" these days\n",
      "C'EST LA TV\n",
      "On record & on film, this jocular pair went \"Up in Smoke\" celebrating the stoner lifestyle\n",
      "C'EST LA TV\n",
      "Walter Mondale used this 3-word Wendy's slogan in 1984 to challenge a rival for the presidential nomination\n",
      "C'EST LA TV\n",
      "Sarah Palin: \"It is from ____ that we send those out to make sure that an eye is being kept on this very powerful nation, Russia\"\n",
      "C'EST LA TV\n",
      "Somehow, the afterlife wouldn't be complete without Blake Bortles on this NBC sitcom\n",
      "C'EST LA TV\n",
      "This president, on the right, & fellow Ohioan Harvey Firestone wait while Edison naps away\n",
      "C'EST LA TV\n",
      "If you're up late working on a project, you're engaging in this combustion that includes a time\n",
      "C'EST LA TV\n",
      "Smoke is paired with these to make a phrase used when reality is being deliberately obscured\n",
      "C'EST LA TV\n",
      "This \"How'm I doin'?\" NYC mayor also said, \"I can explain this to you; I cannot comprehend it for you\"\n",
      "C'EST LA TV\n",
      "An 1803 speech: \"____ is the keystone of the democratic arch\"\n",
      "C'EST LA TV\n",
      "Here's a not-so-small claim--she sold her 5,000-plus court show archive back to CBS for $95 mil, give or take\n",
      "C'EST LA TV\n",
      "These two men, an actor-director & a writer, have a nice chat, perhaps about their last names being homophones\n",
      "C'EST LA TV\n",
      "JFK loved the Broadway lyric \"once there was a spot, for one\" these 3 words \"that was Camelot\"\n",
      "C'EST LA TV\n",
      "By the 17th century keepers of these had developed a screen veil & had learned the value of smoke in controlling them\n",
      "C'EST LA TV\n",
      "(Sarah of the Clue Crew presents from the Plokstine Cold War Museum in Lithuania.) The silos at Lithuania's Plokstine missile base that once housed Soviet SS-4 rockets are empty; the missiles were destroyed under terms of this treaty, signed in 1987 by Gorbachev & Reagan & known by three letters for short\n",
      "C'EST LA TV\n",
      "An official state song: \"On, ____!\"\n",
      "C'EST LA TV\n",
      "Rashida Jones is the title cop on this TBS comedy; other characters include Jay Geils & Dr. Scholls\n"
     ]
    }
   ],
   "source": [
    "for i in range(0,len(category_r1_bs4)):\n",
    "    for jtm in clue_r1_bs4:\n",
    "        print(category_r1_bs4[i].getText() + '\\n'+jtm.getText())"
   ]
  },
  {
   "cell_type": "code",
   "execution_count": 30,
   "metadata": {
    "ExecuteTime": {
     "end_time": "2018-10-22T17:05:41.925136Z",
     "start_time": "2018-10-22T17:05:41.922647Z"
    }
   },
   "outputs": [],
   "source": [
    "# t1[0].findAll('id', class_='')"
   ]
  },
  {
   "cell_type": "code",
   "execution_count": 35,
   "metadata": {
    "ExecuteTime": {
     "end_time": "2018-10-22T18:17:12.501898Z",
     "start_time": "2018-10-22T18:17:08.219944Z"
    }
   },
   "outputs": [],
   "source": [
    "from selenium import webdriver\n",
    "import os\n",
    "chromedriver = \"/Users/brennandonnell/grad_school/chromedriver\"\n",
    "os.environ[\"webdriver.chrome.driver\"] = chromedriver\n",
    "driver = webdriver.Chrome(chromedriver)\n",
    "url='http://www.j-archive.com/showgame.php?game_id=6129'\n",
    "driver.get(url)\n",
    "# driver.find_element_by_class_name('onclick').click()"
   ]
  },
  {
   "cell_type": "code",
   "execution_count": 37,
   "metadata": {
    "ExecuteTime": {
     "end_time": "2018-10-22T18:24:29.747221Z",
     "start_time": "2018-10-22T18:24:29.735406Z"
    }
   },
   "outputs": [
    {
     "ename": "AttributeError",
     "evalue": "'WebDriver' object has no attribute 'wait'",
     "output_type": "error",
     "traceback": [
      "\u001b[0;31m---------------------------------------------------------------------------\u001b[0m",
      "\u001b[0;31mAttributeError\u001b[0m                            Traceback (most recent call last)",
      "\u001b[0;32m<ipython-input-37-44bd97abc6de>\u001b[0m in \u001b[0;36m<module>\u001b[0;34m()\u001b[0m\n\u001b[0;32m----> 1\u001b[0;31m button = driver.wait.until(EC.element_to_be_clickable(\n\u001b[0m\u001b[1;32m      2\u001b[0m             (By.CLASS_NAME, \"nav-header\")))\n",
      "\u001b[0;31mAttributeError\u001b[0m: 'WebDriver' object has no attribute 'wait'"
     ]
    }
   ],
   "source": [
    "b"
   ]
  },
  {
   "cell_type": "code",
   "execution_count": 42,
   "metadata": {
    "ExecuteTime": {
     "end_time": "2018-10-22T18:29:44.433170Z",
     "start_time": "2018-10-22T18:29:44.427321Z"
    }
   },
   "outputs": [
    {
     "data": {
      "text/plain": [
       "<div onclick=\"togglestick('clue_J_1_1_stuck')\" onmouseout=\"toggle('clue_J_1_1', 'clue_J_1_1_stuck', '&lt;a href=&quot;http://www.j-archive.com/media/2018-10-19_J_16.jpg&quot; target=&quot;_blank&quot;&gt;Fidel Castro&lt;/a&gt; gets an earful from &lt;a href=&quot;http://www.j-archive.com/media/2018-10-19_J_16a.jpg&quot; target=&quot;_blank&quot;&gt;this&lt;/a&gt; writer &amp; fellow Cuba resident')\" onmouseover=\"toggle('clue_J_1_1', 'clue_J_1_1_stuck', '&lt;em class=&quot;correct_response&quot;&gt;Ernest Hemingway&lt;/em&gt;&lt;br /&gt;&lt;br /&gt;&lt;table width=&quot;100%&quot;&gt;&lt;tr&gt;&lt;td class=&quot;right&quot;&gt;Herschel&lt;/td&gt;&lt;/tr&gt;&lt;/table&gt;')\">\n",
       "<table class=\"clue_header\">\n",
       "<tr>\n",
       "<td class=\"clue_unstuck\" id=\"clue_J_1_1_stuck\">   </td>\n",
       "<td class=\"clue_value\">$200</td>\n",
       "<td class=\"clue_order_number\"><a href=\"suggestcorrection.php?clue_id=354118\" rel=\"nofollow\" title=\"Suggest a correction for this clue\">16</a></td>\n",
       "</tr>\n",
       "</table>\n",
       "</div>"
      ]
     },
     "execution_count": 42,
     "metadata": {},
     "output_type": "execute_result"
    }
   ],
   "source": [
    "t1[0].findAll(\"div\")[0]"
   ]
  },
  {
   "cell_type": "code",
   "execution_count": 47,
   "metadata": {
    "ExecuteTime": {
     "end_time": "2018-10-22T18:33:38.985092Z",
     "start_time": "2018-10-22T18:33:38.977182Z"
    }
   },
   "outputs": [
    {
     "ename": "AttributeError",
     "evalue": "'WebDriver' object has no attribute 'manage'",
     "output_type": "error",
     "traceback": [
      "\u001b[0;31m---------------------------------------------------------------------------\u001b[0m",
      "\u001b[0;31mAttributeError\u001b[0m                            Traceback (most recent call last)",
      "\u001b[0;32m<ipython-input-47-4e4efc7cc155>\u001b[0m in \u001b[0;36m<module>\u001b[0;34m()\u001b[0m\n\u001b[0;32m----> 1\u001b[0;31m \u001b[0mdriver\u001b[0m\u001b[0;34m.\u001b[0m\u001b[0mmanage\u001b[0m\u001b[0;34m(\u001b[0m\u001b[0;34m)\u001b[0m\u001b[0;34m.\u001b[0m\u001b[0mtimeouts\u001b[0m\u001b[0;34m(\u001b[0m\u001b[0;34m)\u001b[0m\u001b[0;34m.\u001b[0m\u001b[0mimplicitlyWait\u001b[0m\u001b[0;34m(\u001b[0m\u001b[0;36m10\u001b[0m\u001b[0;34m,\u001b[0m \u001b[0mTimeUnit\u001b[0m\u001b[0;34m.\u001b[0m\u001b[0mSECONDS\u001b[0m\u001b[0;34m)\u001b[0m\u001b[0;34m;\u001b[0m\u001b[0;34m\u001b[0m\u001b[0m\n\u001b[0m",
      "\u001b[0;31mAttributeError\u001b[0m: 'WebDriver' object has no attribute 'manage'"
     ]
    }
   ],
   "source": [
    "driver.manage().timeouts().implicitlyWait(10, TimeUnit.SECONDS);"
   ]
  },
  {
   "cell_type": "code",
   "execution_count": 3,
   "metadata": {
    "ExecuteTime": {
     "end_time": "2018-10-22T22:34:45.708700Z",
     "start_time": "2018-10-22T22:34:45.706368Z"
    }
   },
   "outputs": [],
   "source": [
    "category_list = []\n",
    "clue_prize_list = []\n",
    "clue_text_list = []\n",
    "cor_resp_list = []\n",
    "cor_player_list = []"
   ]
  },
  {
   "cell_type": "markdown",
   "metadata": {},
   "source": [
    "make a list for *wrong*, and then append whoever got it incorrect, or at least try to, and if it throws an exception, add *none*. "
   ]
  },
  {
   "cell_type": "code",
   "execution_count": 6,
   "metadata": {
    "ExecuteTime": {
     "end_time": "2018-10-22T22:35:17.945355Z",
     "start_time": "2018-10-22T22:35:09.673495Z"
    },
    "code_folding": []
   },
   "outputs": [],
   "source": [
    "from selenium import webdriver\n",
    "from selenium.webdriver.common.action_chains import ActionChains\n",
    "from selenium.webdriver.common.by import By\n",
    "from selenium.webdriver.support.ui import WebDriverWait\n",
    "from selenium.webdriver.support import expected_conditions as EC\n",
    "\n",
    "chromedriver = \"/Users/brennandonnell/grad_school/chromedriver\"\n",
    "os.environ[\"webdriver.chrome.driver\"] = chromedriver\n",
    "driver = webdriver.Chrome(chromedriver)\n",
    "\n",
    "driver.get(\"http://www.j-archive.com/showgame.php?game_id=6129\")\n",
    "driver.maximize_window()\n",
    "#########\n",
    "# for j in range(1, 7):\n",
    "#     cateory_bs4 = driver.find_element_by_xpath(\n",
    "#             '//*[@id=\"jeopardy_round\"]/table[1]/tbody/tr[1]/td['+ str(j)+']/table/tbody/tr[1]/td'\n",
    "#     )\n",
    "#     category = cateory_bs4.text\n",
    "#     category_list.append(category)\n",
    "for i in range(1, 6):\n",
    "    clue_hint = driver.find_element_by_xpath(\n",
    "        '//*[@id=\"jeopardy_round\"]/table[1]/tbody/tr[' +\n",
    "        str(i+1)+']/td[1]/table/tbody/tr[1]/td'\n",
    "    )\n",
    "    clue_prize_bs4 = driver.find_element_by_xpath(\n",
    "        '//*[@id=\"jeopardy_round\"]/table[1]/tbody/tr[' +\n",
    "        str(i+1)+']/td[1]/table/tbody/tr[1]/td/div/table/tbody/tr/td[2]'\n",
    "    )\n",
    "    clue_prize = clue_prize_bs4.text\n",
    "\n",
    "    clue_text_bs4 = driver.find_element_by_xpath(\n",
    "        '//*[@id=\"clue_J_1_'+str(i)+'\"]')\n",
    "    clue_text = clue_text_bs4.text\n",
    "    actions = ActionChains(driver)\n",
    "    actions.move_to_element(clue_hint)\n",
    "    actions.click()\n",
    "    actions.perform()\n",
    "    cor_resp_bs4 = driver.find_element_by_xpath(\n",
    "        '//*[@id=\"clue_J_1_'+str(i)+'\"]/em')\n",
    "    cor_player_bs4 = driver.find_element_by_xpath(\n",
    "        '//*[@id=\"clue_J_1_'+str(i)+'\"]/table/tbody/tr/td')\n",
    "    cor_resp = cor_resp_bs4.text\n",
    "\n",
    "    cor_player = cor_player_bs4.text\n",
    "    clue_prize_list.append(clue_prize)\n",
    "    clue_text_list.append(clue_text)\n",
    "    cor_resp_list.append(cor_resp)\n",
    "    cor_player_list.append(cor_player)"
   ]
  },
  {
   "cell_type": "code",
   "execution_count": 88,
   "metadata": {
    "ExecuteTime": {
     "end_time": "2018-10-22T19:26:05.729251Z",
     "start_time": "2018-10-22T19:26:05.692982Z"
    }
   },
   "outputs": [],
   "source": [
    "clue_hint = driver.find_element_by_xpath(\n",
    "    '//*[@id=\"jeopardy_round\"]/table[1]/tbody/tr[2]/td[1]/table/tbody/tr[1]/td'\n",
    ")"
   ]
  },
  {
   "cell_type": "code",
   "execution_count": null,
   "metadata": {},
   "outputs": [],
   "source": [
    "driver.find_element_by_xpath(\n",
    "    '//*[@id=\"jeopardy_round\"]/table[1]/tbody/tr[3]/td[1]/table/tbody/tr[1]/td/div'\n",
    ")"
   ]
  },
  {
   "cell_type": "code",
   "execution_count": 113,
   "metadata": {
    "ExecuteTime": {
     "end_time": "2018-10-22T19:47:57.685081Z",
     "start_time": "2018-10-22T19:47:57.662355Z"
    }
   },
   "outputs": [],
   "source": [
    "cor_resp = driver.find_element_by_xpath('//*[@id=\"clue_J_1_1\"]/em')\n",
    "\n",
    "cor_player = driver.find_element_by_xpath('//*[@id=\"clue_J_1_1\"]/table/tbody/tr/td')"
   ]
  },
  {
   "cell_type": "code",
   "execution_count": 116,
   "metadata": {
    "ExecuteTime": {
     "end_time": "2018-10-22T19:49:04.067514Z",
     "start_time": "2018-10-22T19:49:04.040515Z"
    }
   },
   "outputs": [
    {
     "data": {
      "text/plain": [
       "'Herschel'"
      ]
     },
     "execution_count": 116,
     "metadata": {},
     "output_type": "execute_result"
    }
   ],
   "source": [
    "cor_resp.text\n",
    "cor_player.text"
   ]
  },
  {
   "cell_type": "code",
   "execution_count": 126,
   "metadata": {
    "ExecuteTime": {
     "end_time": "2018-10-22T19:54:17.491446Z",
     "start_time": "2018-10-22T19:54:17.471733Z"
    }
   },
   "outputs": [
    {
     "data": {
      "text/plain": [
       "'Fidel Castro gets an earful from this writer & fellow Cuba resident'"
      ]
     },
     "execution_count": 126,
     "metadata": {},
     "output_type": "execute_result"
    }
   ],
   "source": [
    "cateory = driver.find_element_by_xpath('//*[@id=\"clue_J_1_1\"]').text"
   ]
  },
  {
   "cell_type": "code",
   "execution_count": 125,
   "metadata": {
    "ExecuteTime": {
     "end_time": "2018-10-22T19:54:14.086638Z",
     "start_time": "2018-10-22T19:54:14.049102Z"
    }
   },
   "outputs": [],
   "source": [
    "actions.move_to_element(clue_hint)\n",
    "actions.click()\n",
    "actions.perform()"
   ]
  },
  {
   "cell_type": "markdown",
   "metadata": {
    "ExecuteTime": {
     "end_time": "2018-10-22T20:03:25.713062Z",
     "start_time": "2018-10-22T20:03:25.677353Z"
    }
   },
   "source": [
    "\n",
    "`//*[@id=\"jeopardy_round\"]/table[1]/tbody/tr[1]/td[2]/table/tbody/tr[1]/td`"
   ]
  },
  {
   "cell_type": "code",
   "execution_count": 146,
   "metadata": {
    "ExecuteTime": {
     "end_time": "2018-10-22T20:18:03.500532Z",
     "start_time": "2018-10-22T20:18:03.470265Z"
    }
   },
   "outputs": [
    {
     "ename": "WebDriverException",
     "evalue": "Message: chrome not reachable\n  (Session info: chrome=69.0.3497.100)\n  (Driver info: chromedriver=2.43.600229 (3fae4d0cda5334b4f533bede5a4787f7b832d052),platform=Mac OS X 10.13.6 x86_64)\n",
     "output_type": "error",
     "traceback": [
      "\u001b[0;31m---------------------------------------------------------------------------\u001b[0m",
      "\u001b[0;31mWebDriverException\u001b[0m                        Traceback (most recent call last)",
      "\u001b[0;32m<ipython-input-146-e513c0a8f041>\u001b[0m in \u001b[0;36m<module>\u001b[0;34m()\u001b[0m\n\u001b[1;32m      1\u001b[0m actions.move_to_element(driver.find_element_by_xpath(\n\u001b[0;32m----> 2\u001b[0;31m         \u001b[0;34m'//*[@id=\"jeopardy_round\"]/table[1]/tbody/tr['\u001b[0m \u001b[0;34m+\u001b[0m \u001b[0mstr\u001b[0m\u001b[0;34m(\u001b[0m\u001b[0;36m1\u001b[0m\u001b[0;34m+\u001b[0m\u001b[0;36m2\u001b[0m\u001b[0;34m)\u001b[0m \u001b[0;34m+\u001b[0m \u001b[0;34m']/td[1]/table/tbody/tr[1]/td'\u001b[0m\u001b[0;34m\u001b[0m\u001b[0m\n\u001b[0m\u001b[1;32m      3\u001b[0m     )).click().perform()\n",
      "\u001b[0;32m/anaconda3/lib/python3.6/site-packages/selenium/webdriver/common/action_chains.py\u001b[0m in \u001b[0;36mperform\u001b[0;34m(self)\u001b[0m\n\u001b[1;32m     81\u001b[0m         \u001b[0;32melse\u001b[0m\u001b[0;34m:\u001b[0m\u001b[0;34m\u001b[0m\u001b[0m\n\u001b[1;32m     82\u001b[0m             \u001b[0;32mfor\u001b[0m \u001b[0maction\u001b[0m \u001b[0;32min\u001b[0m \u001b[0mself\u001b[0m\u001b[0;34m.\u001b[0m\u001b[0m_actions\u001b[0m\u001b[0;34m:\u001b[0m\u001b[0;34m\u001b[0m\u001b[0m\n\u001b[0;32m---> 83\u001b[0;31m                 \u001b[0maction\u001b[0m\u001b[0;34m(\u001b[0m\u001b[0;34m)\u001b[0m\u001b[0;34m\u001b[0m\u001b[0m\n\u001b[0m\u001b[1;32m     84\u001b[0m \u001b[0;34m\u001b[0m\u001b[0m\n\u001b[1;32m     85\u001b[0m     \u001b[0;32mdef\u001b[0m \u001b[0mreset_actions\u001b[0m\u001b[0;34m(\u001b[0m\u001b[0mself\u001b[0m\u001b[0;34m)\u001b[0m\u001b[0;34m:\u001b[0m\u001b[0;34m\u001b[0m\u001b[0m\n",
      "\u001b[0;32m/anaconda3/lib/python3.6/site-packages/selenium/webdriver/common/action_chains.py\u001b[0m in \u001b[0;36m<lambda>\u001b[0;34m()\u001b[0m\n\u001b[1;32m    275\u001b[0m         \u001b[0;32melse\u001b[0m\u001b[0;34m:\u001b[0m\u001b[0;34m\u001b[0m\u001b[0m\n\u001b[1;32m    276\u001b[0m             self._actions.append(lambda: self._driver.execute(\n\u001b[0;32m--> 277\u001b[0;31m                                  Command.MOVE_TO, {'element': to_element.id}))\n\u001b[0m\u001b[1;32m    278\u001b[0m         \u001b[0;32mreturn\u001b[0m \u001b[0mself\u001b[0m\u001b[0;34m\u001b[0m\u001b[0m\n\u001b[1;32m    279\u001b[0m \u001b[0;34m\u001b[0m\u001b[0m\n",
      "\u001b[0;32m/anaconda3/lib/python3.6/site-packages/selenium/webdriver/remote/webdriver.py\u001b[0m in \u001b[0;36mexecute\u001b[0;34m(self, driver_command, params)\u001b[0m\n\u001b[1;32m    319\u001b[0m         \u001b[0mresponse\u001b[0m \u001b[0;34m=\u001b[0m \u001b[0mself\u001b[0m\u001b[0;34m.\u001b[0m\u001b[0mcommand_executor\u001b[0m\u001b[0;34m.\u001b[0m\u001b[0mexecute\u001b[0m\u001b[0;34m(\u001b[0m\u001b[0mdriver_command\u001b[0m\u001b[0;34m,\u001b[0m \u001b[0mparams\u001b[0m\u001b[0;34m)\u001b[0m\u001b[0;34m\u001b[0m\u001b[0m\n\u001b[1;32m    320\u001b[0m         \u001b[0;32mif\u001b[0m \u001b[0mresponse\u001b[0m\u001b[0;34m:\u001b[0m\u001b[0;34m\u001b[0m\u001b[0m\n\u001b[0;32m--> 321\u001b[0;31m             \u001b[0mself\u001b[0m\u001b[0;34m.\u001b[0m\u001b[0merror_handler\u001b[0m\u001b[0;34m.\u001b[0m\u001b[0mcheck_response\u001b[0m\u001b[0;34m(\u001b[0m\u001b[0mresponse\u001b[0m\u001b[0;34m)\u001b[0m\u001b[0;34m\u001b[0m\u001b[0m\n\u001b[0m\u001b[1;32m    322\u001b[0m             response['value'] = self._unwrap_value(\n\u001b[1;32m    323\u001b[0m                 response.get('value', None))\n",
      "\u001b[0;32m/anaconda3/lib/python3.6/site-packages/selenium/webdriver/remote/errorhandler.py\u001b[0m in \u001b[0;36mcheck_response\u001b[0;34m(self, response)\u001b[0m\n\u001b[1;32m    240\u001b[0m                 \u001b[0malert_text\u001b[0m \u001b[0;34m=\u001b[0m \u001b[0mvalue\u001b[0m\u001b[0;34m[\u001b[0m\u001b[0;34m'alert'\u001b[0m\u001b[0;34m]\u001b[0m\u001b[0;34m.\u001b[0m\u001b[0mget\u001b[0m\u001b[0;34m(\u001b[0m\u001b[0;34m'text'\u001b[0m\u001b[0;34m)\u001b[0m\u001b[0;34m\u001b[0m\u001b[0m\n\u001b[1;32m    241\u001b[0m             \u001b[0;32mraise\u001b[0m \u001b[0mexception_class\u001b[0m\u001b[0;34m(\u001b[0m\u001b[0mmessage\u001b[0m\u001b[0;34m,\u001b[0m \u001b[0mscreen\u001b[0m\u001b[0;34m,\u001b[0m \u001b[0mstacktrace\u001b[0m\u001b[0;34m,\u001b[0m \u001b[0malert_text\u001b[0m\u001b[0;34m)\u001b[0m\u001b[0;34m\u001b[0m\u001b[0m\n\u001b[0;32m--> 242\u001b[0;31m         \u001b[0;32mraise\u001b[0m \u001b[0mexception_class\u001b[0m\u001b[0;34m(\u001b[0m\u001b[0mmessage\u001b[0m\u001b[0;34m,\u001b[0m \u001b[0mscreen\u001b[0m\u001b[0;34m,\u001b[0m \u001b[0mstacktrace\u001b[0m\u001b[0;34m)\u001b[0m\u001b[0;34m\u001b[0m\u001b[0m\n\u001b[0m\u001b[1;32m    243\u001b[0m \u001b[0;34m\u001b[0m\u001b[0m\n\u001b[1;32m    244\u001b[0m     \u001b[0;32mdef\u001b[0m \u001b[0m_value_or_default\u001b[0m\u001b[0;34m(\u001b[0m\u001b[0mself\u001b[0m\u001b[0;34m,\u001b[0m \u001b[0mobj\u001b[0m\u001b[0;34m,\u001b[0m \u001b[0mkey\u001b[0m\u001b[0;34m,\u001b[0m \u001b[0mdefault\u001b[0m\u001b[0;34m)\u001b[0m\u001b[0;34m:\u001b[0m\u001b[0;34m\u001b[0m\u001b[0m\n",
      "\u001b[0;31mWebDriverException\u001b[0m: Message: chrome not reachable\n  (Session info: chrome=69.0.3497.100)\n  (Driver info: chromedriver=2.43.600229 (3fae4d0cda5334b4f533bede5a4787f7b832d052),platform=Mac OS X 10.13.6 x86_64)\n"
     ]
    }
   ],
   "source": [
    "actions.move_to_element(driver.find_element_by_xpath(\n",
    "        '//*[@id=\"jeopardy_round\"]/table[1]/tbody/tr[' + str(1+2) + ']/td[1]/table/tbody/tr[1]/td'\n",
    "    )).click().perform()"
   ]
  },
  {
   "cell_type": "code",
   "execution_count": 153,
   "metadata": {
    "ExecuteTime": {
     "end_time": "2018-10-22T20:20:09.767869Z",
     "start_time": "2018-10-22T20:20:09.764132Z"
    }
   },
   "outputs": [
    {
     "data": {
      "text/plain": [
       "['Fidel Castro gets an earful from this writer & fellow Cuba resident',\n",
       " 'I really doubt a fight could break out between these two men',\n",
       " 'Picasso shows love for his fellow Pablo, this poet',\n",
       " 'This president, on the right, & fellow Ohioan Harvey Firestone wait while Edison naps away',\n",
       " 'These two men, an actor-director & a writer, have a nice chat, perhaps about their last names being homophones']"
      ]
     },
     "execution_count": 153,
     "metadata": {},
     "output_type": "execute_result"
    }
   ],
   "source": []
  },
  {
   "cell_type": "markdown",
   "metadata": {},
   "source": [
    "dataframe columns = headers, and rows = money"
   ]
  }
 ],
 "metadata": {
  "kernelspec": {
   "display_name": "Python 3",
   "language": "python",
   "name": "python3"
  },
  "language_info": {
   "codemirror_mode": {
    "name": "ipython",
    "version": 3
   },
   "file_extension": ".py",
   "mimetype": "text/x-python",
   "name": "python",
   "nbconvert_exporter": "python",
   "pygments_lexer": "ipython3",
   "version": "3.6.5"
  },
  "toc": {
   "base_numbering": 1,
   "nav_menu": {},
   "number_sections": true,
   "sideBar": true,
   "skip_h1_title": false,
   "title_cell": "Table of Contents",
   "title_sidebar": "Contents",
   "toc_cell": false,
   "toc_position": {},
   "toc_section_display": true,
   "toc_window_display": false
  },
  "varInspector": {
   "cols": {
    "lenName": 16,
    "lenType": 16,
    "lenVar": 40
   },
   "kernels_config": {
    "python": {
     "delete_cmd_postfix": "",
     "delete_cmd_prefix": "del ",
     "library": "var_list.py",
     "varRefreshCmd": "print(var_dic_list())"
    },
    "r": {
     "delete_cmd_postfix": ") ",
     "delete_cmd_prefix": "rm(",
     "library": "var_list.r",
     "varRefreshCmd": "cat(var_dic_list()) "
    }
   },
   "types_to_exclude": [
    "module",
    "function",
    "builtin_function_or_method",
    "instance",
    "_Feature"
   ],
   "window_display": false
  }
 },
 "nbformat": 4,
 "nbformat_minor": 2
}
